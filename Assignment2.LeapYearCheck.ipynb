{
 "cells": [
  {
   "cell_type": "code",
   "execution_count": 41,
   "id": "f491d746",
   "metadata": {},
   "outputs": [
    {
     "name": "stdout",
     "output_type": "stream",
     "text": [
      " Enter year 1991\n",
      "1991 is NOT a leap year \n"
     ]
    }
   ],
   "source": [
    "# Python program to check if year is a leap year or not\n",
    "Year= int (input (\" Enter year \") )\n",
    "\n",
    "\n",
    "if (Year % 4 )== 0 :\n",
    "  if (Year % 100)== 0:\n",
    "    if (Year == 400)==0:\n",
    "        print(\"The Year \" + format(Year )+  \", is a Leap year\")\n",
    "    else:\n",
    "        print (\"{0}is not a LeapYear \".format(Year))     \n",
    "  else:\n",
    "   print(\"{0} is NOT a leap year \".format(Year ))\n",
    "                    \n",
    "else:\n",
    "    print(\"{0} is NOT a leap year \".format(Year ))\n",
    "                            \n",
    "                            "
   ]
  },
  {
   "cell_type": "code",
   "execution_count": 26,
   "id": "b4b4b873",
   "metadata": {},
   "outputs": [
    {
     "ename": "IndentationError",
     "evalue": "unindent does not match any outer indentation level (<tokenize>, line 13)",
     "output_type": "error",
     "traceback": [
      "\u001b[1;36m  File \u001b[1;32m\"<tokenize>\"\u001b[1;36m, line \u001b[1;32m13\u001b[0m\n\u001b[1;33m    else:\u001b[0m\n\u001b[1;37m    ^\u001b[0m\n\u001b[1;31mIndentationError\u001b[0m\u001b[1;31m:\u001b[0m unindent does not match any outer indentation level\n"
     ]
    }
   ],
   "source": [
    "Year = 2024\n",
    "if (Year % 4) == 0:\n",
    "    \n",
    "    \n",
    "   if (Year % 100) == 0:\n",
    "    \n",
    "    \n",
    "       if (Year % 400) == 0:\n",
    "           print(\"{0} is a leap year\".format(Year))\n",
    "        \n",
    "       else:\n",
    "           print(\"{0} is not a leap year\".format(Year))\n",
    "     else:\n",
    "       print(\"{0} is a leap year\".format(Year))\n",
    "else:\n",
    "   print(\"{0} is not a leap year\".format(Year))"
   ]
  },
  {
   "cell_type": "code",
   "execution_count": null,
   "id": "3ea29791",
   "metadata": {},
   "outputs": [],
   "source": []
  },
  {
   "cell_type": "code",
   "execution_count": null,
   "id": "2af404f2",
   "metadata": {},
   "outputs": [],
   "source": []
  }
 ],
 "metadata": {
  "kernelspec": {
   "display_name": "Python 3",
   "language": "python",
   "name": "python3"
  },
  "language_info": {
   "codemirror_mode": {
    "name": "ipython",
    "version": 3
   },
   "file_extension": ".py",
   "mimetype": "text/x-python",
   "name": "python",
   "nbconvert_exporter": "python",
   "pygments_lexer": "ipython3",
   "version": "3.8.8"
  }
 },
 "nbformat": 4,
 "nbformat_minor": 5
}
